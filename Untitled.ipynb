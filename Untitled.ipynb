{
 "cells": [
  {
   "cell_type": "code",
   "execution_count": 1,
   "metadata": {},
   "outputs": [],
   "source": [
    "import MagicBox as mb\n",
    "import pandas as pd\n",
    "from DBConnection import createEngine, dbCredentials"
   ]
  },
  {
   "cell_type": "code",
   "execution_count": 9,
   "metadata": {},
   "outputs": [],
   "source": [
    "USR_NME = dbCredentials.USR_NME\n",
    "PSWRD = dbCredentials.PSWRD\n",
    "DB_NME = dbCredentials.DB_NME\n",
    "DB_CONCTR =  dbCredentials.dbused\n",
    "\n",
    "engn = createEngine.connect(USR_NME, PSWRD, DB_NME, dbused=DB_CONCTR)\n",
    "DB_NME = \"MRD\"\n",
    "mainEngn = createEngine.connect(USR_NME, PSWRD, DB_NME, dbused=DB_CONCTR)"
   ]
  },
  {
   "cell_type": "code",
   "execution_count": 3,
   "metadata": {},
   "outputs": [],
   "source": [
    "file = pd.read_sql_query(\"SELECT * FROM Meter_Dayprofile_Data_D4_New\", engn)"
   ]
  },
  {
   "cell_type": "code",
   "execution_count": 12,
   "metadata": {},
   "outputs": [],
   "source": [
    "file.to_sql(\"Meter_Dayprofile_Data_D4_New\", mainEngn, index=False, if_exists='append')"
   ]
  },
  {
   "cell_type": "code",
   "execution_count": 28,
   "metadata": {},
   "outputs": [],
   "source": [
    "from sqlalchemy.types import Float, String, Time"
   ]
  },
  {
   "cell_type": "code",
   "execution_count": 30,
   "metadata": {},
   "outputs": [
    {
     "data": {
      "text/plain": [
       "{'FileName': String(),\n",
       " 'G1': String(),\n",
       " 'G2': Time(),\n",
       " 'IntervalPeriod': String(),\n",
       " 'Date': Time(),\n",
       " 'Interval_d4': String(),\n",
       " 'P1-1-7-4-0': Float(),\n",
       " 'P1-2-1-1-0': Float(),\n",
       " 'P1-2-1-4-0': Float(),\n",
       " 'P1-2-2-1-0': Float(),\n",
       " 'P1-2-2-4-0': Float(),\n",
       " 'P1-2-3-1-0': Float(),\n",
       " 'P1-2-3-4-0': Float(),\n",
       " 'P1-2-7-4-0': Float(),\n",
       " 'P11-1-0-0-0': Float(),\n",
       " 'P1203-1-14-2-0': Float(),\n",
       " 'P1205-1-1-4-0': Float(),\n",
       " 'P1205-1-2-4-0': Float(),\n",
       " 'P1205-1-3-4-0': Float(),\n",
       " 'P1206-1-1-4-0': Float(),\n",
       " 'P1206-1-2-4-0': Float(),\n",
       " 'P1206-1-3-4-0': Float(),\n",
       " 'P1208-1-0-0-0': Float(),\n",
       " 'P1216-1-1-1-0': Float(),\n",
       " 'P1216-1-2-1-0': Float(),\n",
       " 'P1216-1-3-1-0': Float(),\n",
       " 'P1221-2-0-0-0': Float(),\n",
       " 'P1225-3-0-0-0': Float(),\n",
       " 'P1253-1-5-4-0': Float(),\n",
       " 'P1254-2-7-4-0': Float(),\n",
       " 'P2-1-1-4-0': Float(),\n",
       " 'P2-1-2-4-0': Float(),\n",
       " 'P2-1-3-4-0': Float(),\n",
       " 'P2-1-4-4-0': Float(),\n",
       " 'P2-1-5-4-0': Float(),\n",
       " 'P3-1-1-1-0': Float(),\n",
       " 'P3-1-2-1-0': Float(),\n",
       " 'P3-1-3-1-0': Float(),\n",
       " 'P3-3-1-1-0': Float(),\n",
       " 'P3-3-2-1-0': Float(),\n",
       " 'P3-3-3-1-0': Float(),\n",
       " 'P4-4-4-1-0': Float(),\n",
       " 'P4-4-4-2-0': Float(),\n",
       " 'P7-1-14-2-0': Float(),\n",
       " 'P7-1-18-1-0': Float(),\n",
       " 'P7-1-18-2-0': Float(),\n",
       " 'P7-1-5-1-0': Float(),\n",
       " 'P7-1-5-2-0': Float(),\n",
       " 'P7-1-6-1-0': Float(),\n",
       " 'P7-1-6-2-0': Float(),\n",
       " 'P7-2-1-0-0': Float(),\n",
       " 'P7-2-19-0-0': Float(),\n",
       " 'P7-2-2-0-0': Float(),\n",
       " 'P7-2-20-0-0': Float(),\n",
       " 'P7-2-3-0-0': Float(),\n",
       " 'P7-2-4-0-0': Float(),\n",
       " 'P7-2-7-0-0': Float(),\n",
       " 'P7-2-8-0-0': Float(),\n",
       " 'P7-3-13-1-0': Float(),\n",
       " 'P7-3-18-0-0': Float(),\n",
       " 'P7-3-18-2-0': Float(),\n",
       " 'P7-3-5-0-0': Float(),\n",
       " 'P7-3-6-0-0': Float(),\n",
       " 'P9-4-0-0-0': Float(),\n",
       " 'created_timestamp': Time()}"
      ]
     },
     "execution_count": 30,
     "metadata": {},
     "output_type": "execute_result"
    }
   ],
   "source": [
    "{\n",
    "'FileName':String(), \n",
    "'G1':String(), \n",
    "'G2':Time(), \n",
    "'IntervalPeriod':String(), \n",
    "'Date':Time(), \n",
    "'Interval_d4':String(),\n",
    "'P1-1-7-4-0': Float(),\n",
    "'P1-2-1-1-0': Float(),\n",
    "'P1-2-1-4-0': Float(),\n",
    "'P1-2-2-1-0': Float(),\n",
    "'P1-2-2-4-0': Float(),\n",
    "'P1-2-3-1-0': Float(),\n",
    "'P1-2-3-4-0': Float(),\n",
    "'P1-2-7-4-0': Float(),\n",
    "'P11-1-0-0-0': Float(),\n",
    "'P1203-1-14-2-0': Float(),\n",
    "'P1205-1-1-4-0': Float(),\n",
    "'P1205-1-2-4-0': Float(),\n",
    "'P1205-1-3-4-0': Float(),\n",
    "'P1206-1-1-4-0': Float(),\n",
    "'P1206-1-2-4-0': Float(),\n",
    "'P1206-1-3-4-0': Float(),\n",
    "'P1208-1-0-0-0': Float(),\n",
    "'P1216-1-1-1-0': Float(),\n",
    "'P1216-1-2-1-0': Float(),\n",
    "'P1216-1-3-1-0': Float(),\n",
    "'P1221-2-0-0-0': Float(),\n",
    "'P1225-3-0-0-0': Float(),\n",
    "'P1253-1-5-4-0': Float(),\n",
    "'P1254-2-7-4-0': Float(),\n",
    "'P2-1-1-4-0': Float(),\n",
    "'P2-1-2-4-0': Float(),\n",
    "'P2-1-3-4-0': Float(),\n",
    "'P2-1-4-4-0': Float(),\n",
    "'P2-1-5-4-0': Float(),\n",
    "'P3-1-1-1-0': Float(),\n",
    "'P3-1-2-1-0': Float(),\n",
    "'P3-1-3-1-0': Float(),\n",
    "'P3-3-1-1-0': Float(),\n",
    "'P3-3-2-1-0': Float(),\n",
    "'P3-3-3-1-0': Float(),\n",
    "'P4-4-4-1-0': Float(),\n",
    "'P4-4-4-2-0': Float(),\n",
    "'P7-1-14-2-0': Float(),\n",
    "'P7-1-18-1-0': Float(),\n",
    "'P7-1-18-2-0': Float(),\n",
    "'P7-1-5-1-0': Float(),\n",
    "'P7-1-5-2-0': Float(),\n",
    "'P7-1-6-1-0': Float(),\n",
    "'P7-1-6-2-0': Float(),\n",
    "'P7-2-1-0-0': Float(),\n",
    "'P7-2-19-0-0': Float(),\n",
    "'P7-2-2-0-0': Float(),\n",
    "'P7-2-20-0-0': Float(),\n",
    "'P7-2-3-0-0': Float(),\n",
    "'P7-2-4-0-0': Float(),\n",
    "'P7-2-7-0-0': Float(),\n",
    "'P7-2-8-0-0': Float(),\n",
    "'P7-3-13-1-0': Float(),\n",
    "'P7-3-18-0-0': Float(),\n",
    "'P7-3-18-2-0': Float(),\n",
    "'P7-3-5-0-0': Float(),\n",
    "'P7-3-6-0-0': Float(),\n",
    "'P9-4-0-0-0': Float(),\n",
    "'created_timestamp':Time(),\n",
    "}"
   ]
  },
  {
   "cell_type": "code",
   "execution_count": 15,
   "metadata": {},
   "outputs": [],
   "source": [
    "# parmCols = pd.read_csv(\"./PARAMCODES.csv\").sort_values(\"D4 Paramcodes(All Files)\", ignore_index=True)"
   ]
  },
  {
   "cell_type": "code",
   "execution_count": 16,
   "metadata": {},
   "outputs": [],
   "source": [
    "# paramList = parmCols['D4 Paramcodes(All Files)'].unique().tolist()"
   ]
  },
  {
   "cell_type": "code",
   "execution_count": 11,
   "metadata": {},
   "outputs": [],
   "source": [
    "# for name in ['created_timestamp']: #paramList:\n",
    "    \n",
    "#     try:\n",
    "        \n",
    "#         pd.read_sql_query(f'ALTER TABLE Meter_Dayprofile_Data_D4_New ADD `{name.strip()}` DATETIME NULL;', engn)\n",
    "        \n",
    "#     except Exception as e:\n",
    "        \n",
    "#         print(e)"
   ]
  },
  {
   "cell_type": "code",
   "execution_count": null,
   "metadata": {},
   "outputs": [],
   "source": []
  }
 ],
 "metadata": {
  "kernelspec": {
   "display_name": "Python 3",
   "language": "python",
   "name": "python3"
  },
  "language_info": {
   "codemirror_mode": {
    "name": "ipython",
    "version": 3
   },
   "file_extension": ".py",
   "mimetype": "text/x-python",
   "name": "python",
   "nbconvert_exporter": "python",
   "pygments_lexer": "ipython3",
   "version": "3.8.5"
  }
 },
 "nbformat": 4,
 "nbformat_minor": 4
}

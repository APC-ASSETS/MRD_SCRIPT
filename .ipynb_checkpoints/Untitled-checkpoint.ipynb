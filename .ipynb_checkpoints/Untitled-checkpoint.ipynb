{
 "cells": [
  {
   "cell_type": "code",
   "execution_count": 1,
   "metadata": {},
   "outputs": [],
   "source": [
    "import MagicBox as mb\n",
    "import pandas as pd\n",
    "from DBConnection import createEngine, dbCredentials"
   ]
  },
  {
   "cell_type": "code",
   "execution_count": 2,
   "metadata": {},
   "outputs": [],
   "source": [
    "USR_NME = dbCredentials.USR_NME\n",
    "PSWRD = dbCredentials.PSWRD\n",
    "DB_NME = dbCredentials.DB_NME\n",
    "DB_CONCTR =  dbCredentials.dbused\n",
    "\n",
    "engn = createEngine.connect(USR_NME, PSWRD, DB_NME, dbused=DB_CONCTR)"
   ]
  },
  {
   "cell_type": "code",
   "execution_count": 13,
   "metadata": {},
   "outputs": [],
   "source": [
    "# engn.table_names()"
   ]
  },
  {
   "cell_type": "code",
   "execution_count": 14,
   "metadata": {},
   "outputs": [],
   "source": [
    "# pd.read_sql(\"Meter_Dayprofile_Data_D4_New\", engn).columns"
   ]
  },
  {
   "cell_type": "code",
   "execution_count": 15,
   "metadata": {},
   "outputs": [],
   "source": [
    "# parmCols = pd.read_csv(\"./PARAMCODES.csv\").sort_values(\"D4 Paramcodes(All Files)\", ignore_index=True)"
   ]
  },
  {
   "cell_type": "code",
   "execution_count": 16,
   "metadata": {},
   "outputs": [],
   "source": [
    "# paramList = parmCols['D4 Paramcodes(All Files)'].unique().tolist()"
   ]
  },
  {
   "cell_type": "code",
   "execution_count": 11,
   "metadata": {},
   "outputs": [],
   "source": [
    "# for name in ['created_timestamp']: #paramList:\n",
    "    \n",
    "#     try:\n",
    "        \n",
    "#         pd.read_sql_query(f'ALTER TABLE Meter_Dayprofile_Data_D4_New ADD `{name.strip()}` DATETIME NULL;', engn)\n",
    "        \n",
    "#     except Exception as e:\n",
    "        \n",
    "#         print(e)"
   ]
  },
  {
   "cell_type": "code",
   "execution_count": null,
   "metadata": {},
   "outputs": [],
   "source": []
  }
 ],
 "metadata": {
  "kernelspec": {
   "display_name": "Python 3",
   "language": "python",
   "name": "python3"
  },
  "language_info": {
   "codemirror_mode": {
    "name": "ipython",
    "version": 3
   },
   "file_extension": ".py",
   "mimetype": "text/x-python",
   "name": "python",
   "nbconvert_exporter": "python",
   "pygments_lexer": "ipython3",
   "version": "3.8.5"
  }
 },
 "nbformat": 4,
 "nbformat_minor": 4
}
